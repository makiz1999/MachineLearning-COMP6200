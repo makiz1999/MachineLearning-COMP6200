{
 "cells": [
  {
   "cell_type": "code",
   "execution_count": 1,
   "id": "8f5e2af3",
   "metadata": {},
   "outputs": [],
   "source": [
    "from os import listdir\n",
    "from os.path import isdir\n",
    "from numpy import asarray\n",
    "import numpy as np\n",
    "import cv2 as cv\n",
    "from sklearn.preprocessing import LabelEncoder\n",
    "from math import sqrt"
   ]
  },
  {
   "cell_type": "code",
   "execution_count": 2,
   "id": "92d0d83e",
   "metadata": {},
   "outputs": [],
   "source": [
    "width = 128 # image width\n",
    "height = 128 # image height\n",
    "dim = (width, height)"
   ]
  },
  {
   "cell_type": "code",
   "execution_count": 3,
   "id": "0ed4eca8",
   "metadata": {},
   "outputs": [],
   "source": [
    "def load_images (directory):\n",
    "    images = list ()\n",
    "    for filename in listdir(directory) :\n",
    "        path = directory + filename # path\n",
    "        if filename == \".DS_Store\":\n",
    "            continue\n",
    "        img = cv.imread(path)\n",
    "        resized = cv.resize(img, dim, interpolation = cv.INTER_AREA) # resize\n",
    "        normalized_image = cv.normalize (resized, None, 0, 1, cv.NORM_MINMAX, dtype=cv.CV_32F)\n",
    "        arr = np.array(normalized_image) # covert to numpuy array\n",
    "        newarr = arr.reshape (-1) # convert to 1-D array\n",
    "        images.append (newarr) # store\n",
    "\n",
    "    return images\n",
    "\n",
    "# load a dataset \n",
    "def load_dataset(directory):\n",
    "    X, y = list(), list()\n",
    "    for subdir in listdir(directory):\n",
    "        path = directory + subdir + '/' # path \n",
    "        if not isdir(path):\n",
    "            continue \n",
    "        images = load_images(path) \n",
    "        labels = [subdir for _ in range(len(images))] # generate label list \n",
    "        print('>loaded %d examples for class: %s' % (len(images), subdir)) \n",
    "        print ('Label name:', labels) \n",
    "        X.extend(images) # add images to X\n",
    "        y.extend(labels) # add label to y \n",
    "    return asarray(X), asarray(y)\n",
    "\n",
    "def euclidean_distance(row1, row2):\n",
    "    distance = 0.0 \n",
    "    for i in range(len(row1)-1):\n",
    "        distance += (row1[i] - row2[i])**2 \n",
    "    return sqrt(distance)"
   ]
  },
  {
   "cell_type": "code",
   "execution_count": 4,
   "id": "01cfca54",
   "metadata": {},
   "outputs": [],
   "source": [
    "# Locate the most similar neighbors \n",
    "def get_neighbors(train, test_row, num_neighbors):\n",
    "    distances = list() \n",
    "    for train_row in train:\n",
    "        dist = euclidean_distance(test_row, train_row)\n",
    "        distances.append((train_row, dist)) \n",
    "    distances.sort(key=lambda tup: tup[1]) \n",
    "    neighbors = [] \n",
    "    for i in range(num_neighbors):\n",
    "        neighbors.append(distances[i][0]) # adding image row []\n",
    "    return neighbors\n"
   ]
  },
  {
   "cell_type": "code",
   "execution_count": 5,
   "id": "2ddc00bf",
   "metadata": {},
   "outputs": [],
   "source": [
    "# Make a classification prediction with neighbors \n",
    "def predict_classification(train, test_row, num_neighbors):\n",
    "    neighbors = get_neighbors(train, test_row, num_neighbors) \n",
    "    output_values = [row[-1] for row in neighbors] # getting last value of row ???\n",
    "    prediction = max(set(output_values), key=output_values.count) \n",
    "    return prediction"
   ]
  },
  {
   "cell_type": "code",
   "execution_count": 8,
   "id": "09f4325e",
   "metadata": {},
   "outputs": [
    {
     "name": "stdout",
     "output_type": "stream",
     "text": [
      ">loaded 9 examples for class: Maksims\n",
      "Label name: ['Maksims', 'Maksims', 'Maksims', 'Maksims', 'Maksims', 'Maksims', 'Maksims', 'Maksims', 'Maksims']\n",
      ">loaded 9 examples for class: Ronaldo\n",
      "Label name: ['Ronaldo', 'Ronaldo', 'Ronaldo', 'Ronaldo', 'Ronaldo', 'Ronaldo', 'Ronaldo', 'Ronaldo', 'Ronaldo']\n",
      ">loaded 9 examples for class: Porzingis\n",
      "Label name: ['Porzingis', 'Porzingis', 'Porzingis', 'Porzingis', 'Porzingis', 'Porzingis', 'Porzingis', 'Porzingis', 'Porzingis']\n",
      ">loaded 9 examples for class: Lebron\n",
      "Label name: ['Lebron', 'Lebron', 'Lebron', 'Lebron', 'Lebron', 'Lebron', 'Lebron', 'Lebron', 'Lebron']\n",
      ">loaded 9 examples for class: Gomez\n",
      "Label name: ['Gomez', 'Gomez', 'Gomez', 'Gomez', 'Gomez', 'Gomez', 'Gomez', 'Gomez', 'Gomez']\n",
      "(45, 49152)\n",
      "(45, 49153)\n",
      "\n",
      "----------\n",
      "Expected Porzingis, Predicted Porzingis.\n",
      "\n",
      "----------\n",
      "Expected Maksims, Predicted Maksims.\n",
      "\n",
      "----------\n",
      "Expected Ronaldo, Predicted Porzingis.\n",
      "\n",
      "----------\n",
      "Expected Gomez, Predicted Gomez.\n",
      "\n",
      "----------\n",
      "Expected Lebron, Predicted Lebron.\n"
     ]
    }
   ],
   "source": [
    "trainX, trainy = load_dataset('dataset/images/')\n",
    "le = LabelEncoder() \n",
    "label = le.fit_transform(trainy) # categorical encoding \n",
    "labelCol = label[:, np.newaxis] # convert to column vector \n",
    "print(trainX.shape) \n",
    "#print (labelCol) \n",
    "data = np.concatenate((trainX, labelCol), axis=1) \n",
    "print(data.shape)\n",
    "\n",
    "# load unknown images\n",
    "testX = list ()\n",
    "testy = list()\n",
    "directory = \"unknown/Images/\"\n",
    "for filename in listdir(directory) :\n",
    "    path = directory + filename # path\n",
    "    if filename == \".DS_Store\":\n",
    "        continue\n",
    "    img = cv.imread(path)\n",
    "    resized = cv.resize(img, dim, interpolation = cv.INTER_AREA) # resize\n",
    "    normalized_image = cv.normalize (resized, None, 0, 1, cv.NORM_MINMAX, dtype=cv.CV_32F)\n",
    "    arr = np.array(normalized_image) # covert to numpuy array\n",
    "    newarr = arr.reshape (-1) # convert to 1-D array\n",
    "    testX.append (newarr) # store\n",
    "    testy.append(filename[:-4]) # store label\n",
    "\n",
    "labelTest = le.transform(testy) # transform labels\n",
    "predicted = []\n",
    "for i in range(len(testX)):\n",
    "    expect = 0 \n",
    "    prediction = predict_classification(data, testX[i], 5) # PUT dataset with labels\n",
    "    # Otherwise, predict function will return last value of image\n",
    "    predicted.append(int(prediction))\n",
    "#     print('\\n----------\\nExpected %d, Predicted %d.' % (expect, prediction))\n",
    "    \n",
    "predicted_label = le.inverse_transform(predicted)\n",
    "for i in range(len(predicted_label)):\n",
    "    print('\\n----------\\nExpected %s, Predicted %s.' % (testy[i], predicted_label[i]))\n",
    "\n",
    "\n"
   ]
  },
  {
   "cell_type": "code",
   "execution_count": null,
   "id": "913f2c06",
   "metadata": {},
   "outputs": [],
   "source": []
  }
 ],
 "metadata": {
  "kernelspec": {
   "display_name": "Python 3",
   "language": "python",
   "name": "python3"
  },
  "language_info": {
   "codemirror_mode": {
    "name": "ipython",
    "version": 3
   },
   "file_extension": ".py",
   "mimetype": "text/x-python",
   "name": "python",
   "nbconvert_exporter": "python",
   "pygments_lexer": "ipython3",
   "version": "3.8.8"
  }
 },
 "nbformat": 4,
 "nbformat_minor": 5
}
