{
 "cells": [
  {
   "cell_type": "markdown",
   "id": "3110d87e",
   "metadata": {},
   "source": [
    "## Libraries"
   ]
  },
  {
   "cell_type": "code",
   "execution_count": 1,
   "id": "209b45b0",
   "metadata": {},
   "outputs": [],
   "source": [
    "import numpy as np \n",
    "import matplotlib.pyplot as plt"
   ]
  },
  {
   "cell_type": "markdown",
   "id": "0175e685",
   "metadata": {},
   "source": [
    "## Question 1"
   ]
  },
  {
   "cell_type": "code",
   "execution_count": 2,
   "id": "780c3830",
   "metadata": {},
   "outputs": [],
   "source": [
    "def sum_of_squares(n):\n",
    "    total = 0\n",
    "    while n > 0:\n",
    "        total += n**2\n",
    "        n = n-1\n",
    "        \n",
    "    return total"
   ]
  },
  {
   "cell_type": "code",
   "execution_count": 3,
   "id": "59b3e2e9",
   "metadata": {},
   "outputs": [
    {
     "name": "stdout",
     "output_type": "stream",
     "text": [
      "Sum of squares for all positive integers less than or equal to n: 14\n"
     ]
    }
   ],
   "source": [
    "n = 3\n",
    "print(\"Sum of squares for all positive integers less than or equal to n:\",sum_of_squares(n))"
   ]
  },
  {
   "cell_type": "markdown",
   "id": "b049a84d",
   "metadata": {},
   "source": [
    "## Question 2"
   ]
  },
  {
   "cell_type": "code",
   "execution_count": 76,
   "id": "34153237",
   "metadata": {},
   "outputs": [],
   "source": [
    "# Bubble Sort \n",
    "def bubble_sort(arr): \n",
    "    i = 1 \n",
    "    while i < len(arr): \n",
    "        j = 1 \n",
    "        while j < len(arr): \n",
    "            if arr[j] < arr[j-1]: \n",
    "                temp = arr[j] \n",
    "                arr[j] = arr[j-1] \n",
    "                arr[j-1] = temp \n",
    "            j += 1 \n",
    "        i += 1              "
   ]
  },
  {
   "cell_type": "code",
   "execution_count": 77,
   "id": "9ed5c2c2",
   "metadata": {},
   "outputs": [
    {
     "name": "stdout",
     "output_type": "stream",
     "text": [
      "Unsorted array: [43, 5, 7, 12, 100, 47, 12, 15, 33, 8, 67, 14, 98, 86]\n",
      "Sorted array: [5, 7, 8, 12, 12, 14, 15, 33, 43, 47, 67, 86, 98, 100]\n"
     ]
    }
   ],
   "source": [
    "array = [43, 5, 7, 12, 100, 47, 12, 15, 33, 8, 67, 14, 98, 86]\n",
    "print(\"Unsorted array:\", array)\n",
    "\n",
    "bubble_sort(array)\n",
    "print(\"Sorted array:\", array)"
   ]
  },
  {
   "cell_type": "markdown",
   "id": "624f0844",
   "metadata": {},
   "source": [
    "## Question 3"
   ]
  },
  {
   "cell_type": "code",
   "execution_count": 78,
   "id": "efeafd2f",
   "metadata": {},
   "outputs": [
    {
     "name": "stdout",
     "output_type": "stream",
     "text": [
      "Dot product:\n",
      " [[27 42]\n",
      " [29 42]\n",
      " [28 44]]\n"
     ]
    }
   ],
   "source": [
    "A = np.array([[3, 2, 5],[4, 2, 1],[3, 4, 2]]) \n",
    "B = np.array([[6, 8], [2, 4], [1, 2]]) \n",
    "print(\"Dot product:\\n\", A.dot(B))"
   ]
  },
  {
   "cell_type": "markdown",
   "id": "b99aec31",
   "metadata": {},
   "source": [
    "## Question 4"
   ]
  },
  {
   "cell_type": "code",
   "execution_count": 79,
   "id": "8dce3ce6",
   "metadata": {},
   "outputs": [
    {
     "data": {
      "image/png": "[encoded data removed]",
      "text/plain": [
       "<Figure size 720x432 with 1 Axes>"
      ]
     },
     "metadata": {
      "needs_background": "light"
     },
     "output_type": "display_data"
    }
   ],
   "source": [
    "random_arr = np.random.randint(0,100,15)\n",
    "indeces = np.linspace(1,15,15)\n",
    "\n",
    "plt.figure(figsize=(10,6))\n",
    "plt.plot(indeces, random_arr, 'r*')\n",
    "plt.ylabel(\"Random number\")\n",
    "plt.xlabel(\"Index\")\n",
    "plt.show()"
   ]
  },
  {
   "cell_type": "markdown",
   "id": "95ae56e0",
   "metadata": {},
   "source": [
    "## Question 5"
   ]
  },
  {
   "cell_type": "code",
   "execution_count": 80,
   "id": "2fe6fb74",
   "metadata": {},
   "outputs": [],
   "source": [
    "def convert_2d(arr, row, col):\n",
    "    \"\"\"\n",
    "        arr: 1-dimensional array\n",
    "        row: number of rows to transform array\n",
    "        col: number of rows to transform array\n",
    "        return -> 2-dimensional array\n",
    "    \"\"\"\n",
    "    \n",
    "    if (row*col) != len(arr):\n",
    "        print(\"Wrong number of rows/columns\")\n",
    "        return None\n",
    "    \n",
    "    new_arr = []\n",
    "    for i in range(row):\n",
    "        cur_row = arr[i*col:i*col+col]\n",
    "        new_arr.append(cur_row)\n",
    "    \n",
    "    return new_arr"
   ]
  },
  {
   "cell_type": "code",
   "execution_count": 81,
   "id": "b24f4460",
   "metadata": {},
   "outputs": [
    {
     "name": "stdout",
     "output_type": "stream",
     "text": [
      "Original 1-D array: [1, 2, 3, 4, 5, 6]\n",
      "Reshaped 1-D to 2-D array:\n",
      " [[1, 2], [3, 4], [5, 6]]\n",
      "Shape of array: 3 x 2\n"
     ]
    }
   ],
   "source": [
    "arr = [1,2,3,4,5,6]\n",
    "num_rows = 3\n",
    "num_columns = 2\n",
    "\n",
    "arr_2d = convert_2d(arr, num_rows, num_columns)\n",
    "\n",
    "print(\"Original 1-D array:\", arr)\n",
    "print(\"Reshaped 1-D to 2-D array:\\n\", arr_2d)\n",
    "print(\"Shape of array:\", len(arr_2d), \"x\", len(arr_2d[0]))"
   ]
  },
  {
   "cell_type": "code",
   "execution_count": null,
   "id": "e9a0d349",
   "metadata": {},
   "outputs": [],
   "source": []
  }
 ],
 "metadata": {
  "kernelspec": {
   "display_name": "Python 3",
   "language": "python",
   "name": "python3"
  },
  "language_info": {
   "codemirror_mode": {
    "name": "ipython",
    "version": 3
   },
   "file_extension": ".py",
   "mimetype": "text/x-python",
   "name": "python",
   "nbconvert_exporter": "python",
   "pygments_lexer": "ipython3",
   "version": "3.8.8"
  }
 },
 "nbformat": 4,
 "nbformat_minor": 5
}
